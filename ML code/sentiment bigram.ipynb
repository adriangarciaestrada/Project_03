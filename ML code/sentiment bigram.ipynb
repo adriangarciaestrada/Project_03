{
 "metadata": {
  "language_info": {
   "codemirror_mode": {
    "name": "ipython",
    "version": 3
   },
   "file_extension": ".py",
   "mimetype": "text/x-python",
   "name": "python",
   "nbconvert_exporter": "python",
   "pygments_lexer": "ipython3",
   "version": 3
  },
  "orig_nbformat": 2,
  "kernelspec": {
   "name": "python_defaultSpec_1596505505169",
   "display_name": "Python 3.6.10 64-bit"
  }
 },
 "nbformat": 4,
 "nbformat_minor": 2,
 "cells": [
  {
   "cell_type": "code",
   "execution_count": 1,
   "metadata": {},
   "outputs": [
    {
     "output_type": "execute_result",
     "data": {
      "text/plain": "                                                    text  label\n0      When you typically watch a short film your alw...      1\n1      Honestly this is one of the BEST horror movies...      1\n2      Zero Day leads you to think even rethink why t...      1\n3      Were it not for the fact that this came as a 2...      0\n4      Favela Rising is a documentary about the slums...      1\n...                                                  ...    ...\n49995  What a truly moronic movie all I can say is th...      0\n49996  This was a pretty good movie that was overall ...      1\n49997  The Hindi remake of Mrs Doubtfire starring and...      0\n49998  I chose this movie by the cover which was a ba...      0\n49999  I think everyone was quite disappointed with t...      0\n\n[50000 rows x 2 columns]",
      "text/html": "<div>\n<style scoped>\n    .dataframe tbody tr th:only-of-type {\n        vertical-align: middle;\n    }\n\n    .dataframe tbody tr th {\n        vertical-align: top;\n    }\n\n    .dataframe thead th {\n        text-align: right;\n    }\n</style>\n<table border=\"1\" class=\"dataframe\">\n  <thead>\n    <tr style=\"text-align: right;\">\n      <th></th>\n      <th>text</th>\n      <th>label</th>\n    </tr>\n  </thead>\n  <tbody>\n    <tr>\n      <th>0</th>\n      <td>When you typically watch a short film your alw...</td>\n      <td>1</td>\n    </tr>\n    <tr>\n      <th>1</th>\n      <td>Honestly this is one of the BEST horror movies...</td>\n      <td>1</td>\n    </tr>\n    <tr>\n      <th>2</th>\n      <td>Zero Day leads you to think even rethink why t...</td>\n      <td>1</td>\n    </tr>\n    <tr>\n      <th>3</th>\n      <td>Were it not for the fact that this came as a 2...</td>\n      <td>0</td>\n    </tr>\n    <tr>\n      <th>4</th>\n      <td>Favela Rising is a documentary about the slums...</td>\n      <td>1</td>\n    </tr>\n    <tr>\n      <th>...</th>\n      <td>...</td>\n      <td>...</td>\n    </tr>\n    <tr>\n      <th>49995</th>\n      <td>What a truly moronic movie all I can say is th...</td>\n      <td>0</td>\n    </tr>\n    <tr>\n      <th>49996</th>\n      <td>This was a pretty good movie that was overall ...</td>\n      <td>1</td>\n    </tr>\n    <tr>\n      <th>49997</th>\n      <td>The Hindi remake of Mrs Doubtfire starring and...</td>\n      <td>0</td>\n    </tr>\n    <tr>\n      <th>49998</th>\n      <td>I chose this movie by the cover which was a ba...</td>\n      <td>0</td>\n    </tr>\n    <tr>\n      <th>49999</th>\n      <td>I think everyone was quite disappointed with t...</td>\n      <td>0</td>\n    </tr>\n  </tbody>\n</table>\n<p>50000 rows × 2 columns</p>\n</div>"
     },
     "metadata": {},
     "execution_count": 1
    }
   ],
   "source": [
    "import pandas as pd\n",
    "import re\n",
    "from os import system, listdir\n",
    "from random import shuffle\n",
    "from sklearn.linear_model import SGDClassifier\n",
    "from sklearn.model_selection import train_test_split\n",
    "import numpy as np\n",
    "import pandas as pd\n",
    "from random import shuffle\n",
    "\n",
    "\n",
    "directory = './aclImdb/train/neg'\n",
    "neg = []\n",
    "\n",
    "for filename in os.listdir(directory):\n",
    "        f = open(f'{directory}/{filename}', encoding='utf-8')\n",
    "        lines = f.read()\n",
    "        neg.append(lines)\n",
    "\n",
    "directory = './aclImdb/test/pos'\n",
    "pos = []\n",
    "\n",
    "for filename in os.listdir(directory):\n",
    "        f = open(f'{directory}/{filename}', encoding='utf-8')\n",
    "        lines = f.read()\n",
    "        pos.append(lines)\n",
    "\n",
    "directory = './aclImdb/test/neg'\n",
    "\n",
    "\n",
    "for filename in os.listdir(directory):\n",
    "        f = open(f'{directory}/{filename}', encoding='utf-8')\n",
    "        lines = f.read()\n",
    "        neg.append(lines)\n",
    "\n",
    "directory = './aclImdb/train/pos'\n",
    "for filename in os.listdir(directory):\n",
    "        f = open(f'{directory}/{filename}', encoding='utf-8')\n",
    "        lines = f.read()\n",
    "        pos.append(lines)\n",
    "\n",
    "\n",
    "negative = pd.DataFrame(neg)\n",
    "negative[\"label\"] = 0\n",
    "positive = pd.DataFrame(pos)\n",
    "positive[\"label\"] = 1\n",
    "all = pd.concat([negative, positive])\n",
    "all.fillna(0, inplace=True)\n",
    "all = all.rename(columns={0: \"text\"}).reset_index(drop=True)\n",
    "import string\n",
    "def remove_punctuations(text):\n",
    "    for punctuation in string.punctuation:\n",
    "        text = text.replace(punctuation, '')\n",
    "    return text\n",
    "all['text'] = all['text'].apply(remove_punctuations)\n",
    "all = all.sample(frac=1).reset_index(drop=True)\n",
    "all"
   ]
  },
  {
   "cell_type": "code",
   "execution_count": 2,
   "metadata": {},
   "outputs": [],
   "source": [
    "from sklearn.feature_extraction.text import CountVectorizer, TfidfTransformer"
   ]
  },
  {
   "cell_type": "code",
   "execution_count": 3,
   "metadata": {
    "tags": []
   },
   "outputs": [],
   "source": [
    "vectorizer = CountVectorizer(ngram_range=(2, 2), stop_words='english')\n",
    "vectorizer.fit(all['text'].values)\n",
    "vectorized = vectorizer.transform(all['text'].values)\n",
    "\n",
    "idf_transformer = TfidfTransformer()\n",
    "idf_transformer.fit(vectorized)\n",
    "listofwords = vectorizer.get_feature_names()\n",
    "transformed = idf_transformer.transform(vectorized)"
   ]
  },
  {
   "cell_type": "code",
   "execution_count": 4,
   "metadata": {
    "tags": []
   },
   "outputs": [
    {
     "output_type": "stream",
     "name": "stdout",
     "text": "0.9038666666666667 0.7332\n"
    },
    {
     "output_type": "execute_result",
     "data": {
      "text/plain": "    0  1\n0   1  1\n1   1  1\n2   1  1\n3   1  1\n4   0  0\n5   1  0\n6   0  0\n7   1  1\n8   1  1\n9   1  0\n10  1  1\n11  1  1\n12  0  0\n13  0  0\n14  1  0\n15  1  0\n16  1  1\n17  1  1\n18  1  1\n19  1  0\n20  1  0\n21  1  1\n22  1  1\n23  1  1\n24  1  1\n25  1  1\n26  1  0\n27  1  0\n28  1  0\n29  1  1\n30  1  0\n31  0  0\n32  1  0\n33  1  0\n34  1  0\n35  1  1\n36  1  0\n37  1  0\n38  1  0\n39  1  1\n40  1  1\n41  1  0\n42  0  0\n43  1  1\n44  0  0\n45  0  0\n46  0  0\n47  1  0\n48  1  1\n49  0  1",
      "text/html": "<div>\n<style scoped>\n    .dataframe tbody tr th:only-of-type {\n        vertical-align: middle;\n    }\n\n    .dataframe tbody tr th {\n        vertical-align: top;\n    }\n\n    .dataframe thead th {\n        text-align: right;\n    }\n</style>\n<table border=\"1\" class=\"dataframe\">\n  <thead>\n    <tr style=\"text-align: right;\">\n      <th></th>\n      <th>0</th>\n      <th>1</th>\n    </tr>\n  </thead>\n  <tbody>\n    <tr>\n      <th>0</th>\n      <td>1</td>\n      <td>1</td>\n    </tr>\n    <tr>\n      <th>1</th>\n      <td>1</td>\n      <td>1</td>\n    </tr>\n    <tr>\n      <th>2</th>\n      <td>1</td>\n      <td>1</td>\n    </tr>\n    <tr>\n      <th>3</th>\n      <td>1</td>\n      <td>1</td>\n    </tr>\n    <tr>\n      <th>4</th>\n      <td>0</td>\n      <td>0</td>\n    </tr>\n    <tr>\n      <th>5</th>\n      <td>1</td>\n      <td>0</td>\n    </tr>\n    <tr>\n      <th>6</th>\n      <td>0</td>\n      <td>0</td>\n    </tr>\n    <tr>\n      <th>7</th>\n      <td>1</td>\n      <td>1</td>\n    </tr>\n    <tr>\n      <th>8</th>\n      <td>1</td>\n      <td>1</td>\n    </tr>\n    <tr>\n      <th>9</th>\n      <td>1</td>\n      <td>0</td>\n    </tr>\n    <tr>\n      <th>10</th>\n      <td>1</td>\n      <td>1</td>\n    </tr>\n    <tr>\n      <th>11</th>\n      <td>1</td>\n      <td>1</td>\n    </tr>\n    <tr>\n      <th>12</th>\n      <td>0</td>\n      <td>0</td>\n    </tr>\n    <tr>\n      <th>13</th>\n      <td>0</td>\n      <td>0</td>\n    </tr>\n    <tr>\n      <th>14</th>\n      <td>1</td>\n      <td>0</td>\n    </tr>\n    <tr>\n      <th>15</th>\n      <td>1</td>\n      <td>0</td>\n    </tr>\n    <tr>\n      <th>16</th>\n      <td>1</td>\n      <td>1</td>\n    </tr>\n    <tr>\n      <th>17</th>\n      <td>1</td>\n      <td>1</td>\n    </tr>\n    <tr>\n      <th>18</th>\n      <td>1</td>\n      <td>1</td>\n    </tr>\n    <tr>\n      <th>19</th>\n      <td>1</td>\n      <td>0</td>\n    </tr>\n    <tr>\n      <th>20</th>\n      <td>1</td>\n      <td>0</td>\n    </tr>\n    <tr>\n      <th>21</th>\n      <td>1</td>\n      <td>1</td>\n    </tr>\n    <tr>\n      <th>22</th>\n      <td>1</td>\n      <td>1</td>\n    </tr>\n    <tr>\n      <th>23</th>\n      <td>1</td>\n      <td>1</td>\n    </tr>\n    <tr>\n      <th>24</th>\n      <td>1</td>\n      <td>1</td>\n    </tr>\n    <tr>\n      <th>25</th>\n      <td>1</td>\n      <td>1</td>\n    </tr>\n    <tr>\n      <th>26</th>\n      <td>1</td>\n      <td>0</td>\n    </tr>\n    <tr>\n      <th>27</th>\n      <td>1</td>\n      <td>0</td>\n    </tr>\n    <tr>\n      <th>28</th>\n      <td>1</td>\n      <td>0</td>\n    </tr>\n    <tr>\n      <th>29</th>\n      <td>1</td>\n      <td>1</td>\n    </tr>\n    <tr>\n      <th>30</th>\n      <td>1</td>\n      <td>0</td>\n    </tr>\n    <tr>\n      <th>31</th>\n      <td>0</td>\n      <td>0</td>\n    </tr>\n    <tr>\n      <th>32</th>\n      <td>1</td>\n      <td>0</td>\n    </tr>\n    <tr>\n      <th>33</th>\n      <td>1</td>\n      <td>0</td>\n    </tr>\n    <tr>\n      <th>34</th>\n      <td>1</td>\n      <td>0</td>\n    </tr>\n    <tr>\n      <th>35</th>\n      <td>1</td>\n      <td>1</td>\n    </tr>\n    <tr>\n      <th>36</th>\n      <td>1</td>\n      <td>0</td>\n    </tr>\n    <tr>\n      <th>37</th>\n      <td>1</td>\n      <td>0</td>\n    </tr>\n    <tr>\n      <th>38</th>\n      <td>1</td>\n      <td>0</td>\n    </tr>\n    <tr>\n      <th>39</th>\n      <td>1</td>\n      <td>1</td>\n    </tr>\n    <tr>\n      <th>40</th>\n      <td>1</td>\n      <td>1</td>\n    </tr>\n    <tr>\n      <th>41</th>\n      <td>1</td>\n      <td>0</td>\n    </tr>\n    <tr>\n      <th>42</th>\n      <td>0</td>\n      <td>0</td>\n    </tr>\n    <tr>\n      <th>43</th>\n      <td>1</td>\n      <td>1</td>\n    </tr>\n    <tr>\n      <th>44</th>\n      <td>0</td>\n      <td>0</td>\n    </tr>\n    <tr>\n      <th>45</th>\n      <td>0</td>\n      <td>0</td>\n    </tr>\n    <tr>\n      <th>46</th>\n      <td>0</td>\n      <td>0</td>\n    </tr>\n    <tr>\n      <th>47</th>\n      <td>1</td>\n      <td>0</td>\n    </tr>\n    <tr>\n      <th>48</th>\n      <td>1</td>\n      <td>1</td>\n    </tr>\n    <tr>\n      <th>49</th>\n      <td>0</td>\n      <td>1</td>\n    </tr>\n  </tbody>\n</table>\n</div>"
     },
     "metadata": {},
     "execution_count": 4
    }
   ],
   "source": [
    "from sklearn.linear_model import SGDClassifier\n",
    "from sklearn.model_selection import train_test_split\n",
    "import numpy as np\n",
    "\n",
    "y = all['label'].values\n",
    "\n",
    "X_train, X_test, y_train, y_test = train_test_split(transformed, y)\n",
    "\n",
    "clf = SGDClassifier()\n",
    "clf.fit(X_train, y_train)\n",
    "train_score = clf.score(X_train, y_train)\n",
    "test_score = clf.score(X_test, y_test)\n",
    "prediction = clf.predict(X_test)\n",
    "print(train_score, test_score)\n",
    "comparison = zip(prediction,y_test)\n",
    "comp_df = pd.DataFrame(comparison)\n",
    "comp_df.head(50)\n"
   ]
  },
  {
   "cell_type": "code",
   "execution_count": 5,
   "metadata": {
    "tags": []
   },
   "outputs": [
    {
     "output_type": "stream",
     "name": "stdout",
     "text": "3121022\n"
    }
   ],
   "source": [
    "print(len(listofwords))"
   ]
  },
  {
   "cell_type": "code",
   "execution_count": 6,
   "metadata": {},
   "outputs": [],
   "source": [
    "new_comment = \"\"\"In all my series and movie watching years I have never seen a serie so well thought through as this. Don't let the language barrier stop you from watching this. Acting and character building are superb. Hint: grab a pen and some paper and keep track ;) Also there is totally no comparison to Stranger Things (and I have seen all 3 seasons) This is in a league of it's own entirely. Well done! Netflix more of this please!!!\"\"\""
   ]
  },
  {
   "cell_type": "code",
   "execution_count": 7,
   "metadata": {},
   "outputs": [],
   "source": [
    "new_df = pd.DataFrame([new_comment])\n",
    "new_df[0] = new_df[0].apply(remove_punctuations)"
   ]
  },
  {
   "cell_type": "code",
   "execution_count": 8,
   "metadata": {},
   "outputs": [
    {
     "output_type": "execute_result",
     "data": {
      "text/plain": "                                                text\n0  In all my series and movie watching years I ha...",
      "text/html": "<div>\n<style scoped>\n    .dataframe tbody tr th:only-of-type {\n        vertical-align: middle;\n    }\n\n    .dataframe tbody tr th {\n        vertical-align: top;\n    }\n\n    .dataframe thead th {\n        text-align: right;\n    }\n</style>\n<table border=\"1\" class=\"dataframe\">\n  <thead>\n    <tr style=\"text-align: right;\">\n      <th></th>\n      <th>text</th>\n    </tr>\n  </thead>\n  <tbody>\n    <tr>\n      <th>0</th>\n      <td>In all my series and movie watching years I ha...</td>\n    </tr>\n  </tbody>\n</table>\n</div>"
     },
     "metadata": {},
     "execution_count": 8
    }
   ],
   "source": [
    "new_df = new_df.rename(columns={0:\"text\"})\n",
    "new_df"
   ]
  },
  {
   "cell_type": "code",
   "execution_count": 9,
   "metadata": {},
   "outputs": [],
   "source": [
    "\n",
    "X_train_unigram = vectorizer.transform(new_df[\"text\"].values)\n",
    "\n",
    "X_train_unigram_tf_idf = idf_transformer.transform(X_train_unigram)\n",
    "\n",
    "new_prediction = clf.predict(X_train_unigram_tf_idf)"
   ]
  },
  {
   "cell_type": "code",
   "execution_count": 10,
   "metadata": {
    "tags": []
   },
   "outputs": [
    {
     "output_type": "stream",
     "name": "stdout",
     "text": "Positive\n"
    }
   ],
   "source": [
    "if new_prediction[0] == 1:\n",
    "    text_prediction = \"Positive\"\n",
    "else:\n",
    "    text_prediction = \"Negative\"\n",
    "print(text_prediction)"
   ]
  }
 ]
}