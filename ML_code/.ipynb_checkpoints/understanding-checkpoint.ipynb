{
 "cells": [
  {
   "cell_type": "code",
   "execution_count": 1,
   "metadata": {},
   "outputs": [],
   "source": [
    "import pandas as pd\n",
    "import string"
   ]
  },
  {
   "cell_type": "code",
   "execution_count": 2,
   "metadata": {},
   "outputs": [],
   "source": [
    "def remove_punctuations(text):\n",
    "    for punctuation in string.punctuation:\n",
    "        text = text.replace(punctuation, '')\n",
    "    return text"
   ]
  },
  {
   "cell_type": "markdown",
   "metadata": {},
   "source": [
    "# Data pre-processing\n",
    "As we have several words in all the comments, and we need to transform the into numbers, we will use the **CountVectorizer** to convert a collection of text documents to a matrix of token counts.\n",
    "\n",
    "This will create a matrix that will be the number of rows times the number of unique words in the corpus.\n",
    "\n",
    "Prior to tokenize the words, first we removed the puntuaction words with the following function:\n",
    "```python\n",
    "def remove_punctuations(text):\n",
    "    for punctuation in string.punctuation:\n",
    "        text = text.replace(punctuation, '')\n",
    "    return text\n",
    "```\n"
   ]
  },
  {
   "cell_type": "markdown",
   "metadata": {},
   "source": [
    "## Creating the DataFrame\n",
    "\n",
    "For explanation purposes we will use a simple example of how the **CountVectorizer** works\n",
    "\n",
    "### We'll create the following DataFrame\n",
    "\n",
    "|   | text                                                                           |\n",
    "|---|--------------------------------------------------------------------------------|\n",
    "| 0 | Hello everybody                                                                |\n",
    "| 1 | my name is Jose Alvarez everybody                                              |\n",
    "| 2 | my age is 32 years, and have been living in CDMX for 32 years also everybody.  |\n",
    "\n",
    "We will also remove the puntuaction with **remove_punctuations**"
   ]
  },
  {
   "cell_type": "code",
   "execution_count": 3,
   "metadata": {},
   "outputs": [],
   "source": [
    "new_comment = [{\"text\":\"Hello everybody\"}, {\"text\":\"my name is Jose Alvarez everybody\"}, {\"text\":\"my age is 32 years, and have been living in CDMX for 32 years also everybody.\"}]"
   ]
  },
  {
   "cell_type": "code",
   "execution_count": 4,
   "metadata": {},
   "outputs": [],
   "source": [
    "new_df = pd.DataFrame(new_comment)\n",
    "new_df[\"text\"] = new_df[\"text\"].apply(remove_punctuations)"
   ]
  },
  {
   "cell_type": "code",
   "execution_count": 5,
   "metadata": {},
   "outputs": [
    {
     "data": {
      "text/html": [
       "<div>\n",
       "<style scoped>\n",
       "    .dataframe tbody tr th:only-of-type {\n",
       "        vertical-align: middle;\n",
       "    }\n",
       "\n",
       "    .dataframe tbody tr th {\n",
       "        vertical-align: top;\n",
       "    }\n",
       "\n",
       "    .dataframe thead th {\n",
       "        text-align: right;\n",
       "    }\n",
       "</style>\n",
       "<table border=\"1\" class=\"dataframe\">\n",
       "  <thead>\n",
       "    <tr style=\"text-align: right;\">\n",
       "      <th></th>\n",
       "      <th>text</th>\n",
       "    </tr>\n",
       "  </thead>\n",
       "  <tbody>\n",
       "    <tr>\n",
       "      <th>0</th>\n",
       "      <td>Hello everybody</td>\n",
       "    </tr>\n",
       "    <tr>\n",
       "      <th>1</th>\n",
       "      <td>my name is Jose Alvarez everybody</td>\n",
       "    </tr>\n",
       "    <tr>\n",
       "      <th>2</th>\n",
       "      <td>my age is 32 years and have been living in CDM...</td>\n",
       "    </tr>\n",
       "  </tbody>\n",
       "</table>\n",
       "</div>"
      ],
      "text/plain": [
       "                                                text\n",
       "0                                    Hello everybody\n",
       "1                  my name is Jose Alvarez everybody\n",
       "2  my age is 32 years and have been living in CDM..."
      ]
     },
     "execution_count": 5,
     "metadata": {},
     "output_type": "execute_result"
    }
   ],
   "source": [
    "new_df"
   ]
  },
  {
   "cell_type": "code",
   "execution_count": 6,
   "metadata": {},
   "outputs": [],
   "source": [
    "from sklearn.feature_extraction.text import CountVectorizer, TfidfTransformer"
   ]
  },
  {
   "cell_type": "markdown",
   "metadata": {},
   "source": [
    "## CountVectorizer\n",
    "\n",
    "This function will tokenize all of the words in the corpus of the *DataFrame*\n",
    "\n",
    "**CountVectorizer** requires some key arguments that will determine the tokenized output.\n",
    "\n",
    "```python\n",
    "CountVectorizer(ngram_range=(1, 1), stop_words='english')\n",
    "```\n",
    "***ngram_range*** will determine the *range of n-values for different word n-grams*. This means what would be the minimum combination of words and the maximum. \n",
    "\n",
    "A value of \"1,1\" means that the minimum is one word and the maximum is also one word.\n",
    "\n",
    "A 2,2 value, will mean that it will find unique combination of two words, thus making the array larger.\n",
    "\n",
    "We, also need to remove common english words that add no value to the conversations. We can add the argument ***stop_words*** to the **CountVectorizer**. This argument only works on the english language."
   ]
  },
  {
   "cell_type": "markdown",
   "metadata": {},
   "source": [
    "#### Using ngram_range 1,1 or 2,2"
   ]
  },
  {
   "cell_type": "code",
   "execution_count": 28,
   "metadata": {
    "tags": []
   },
   "outputs": [
    {
     "data": {
      "text/html": [
       "<div>\n",
       "<style scoped>\n",
       "    .dataframe tbody tr th:only-of-type {\n",
       "        vertical-align: middle;\n",
       "    }\n",
       "\n",
       "    .dataframe tbody tr th {\n",
       "        vertical-align: top;\n",
       "    }\n",
       "\n",
       "    .dataframe thead th {\n",
       "        text-align: right;\n",
       "    }\n",
       "</style>\n",
       "<table border=\"1\" class=\"dataframe\">\n",
       "  <thead>\n",
       "    <tr style=\"text-align: right;\">\n",
       "      <th></th>\n",
       "      <th>32</th>\n",
       "      <th>age</th>\n",
       "      <th>alvarez</th>\n",
       "      <th>cdmx</th>\n",
       "      <th>everybody</th>\n",
       "      <th>hello</th>\n",
       "      <th>jose</th>\n",
       "      <th>living</th>\n",
       "      <th>years</th>\n",
       "    </tr>\n",
       "  </thead>\n",
       "  <tbody>\n",
       "    <tr>\n",
       "      <th>0</th>\n",
       "      <td>0</td>\n",
       "      <td>0</td>\n",
       "      <td>0</td>\n",
       "      <td>0</td>\n",
       "      <td>1</td>\n",
       "      <td>1</td>\n",
       "      <td>0</td>\n",
       "      <td>0</td>\n",
       "      <td>0</td>\n",
       "    </tr>\n",
       "    <tr>\n",
       "      <th>1</th>\n",
       "      <td>0</td>\n",
       "      <td>0</td>\n",
       "      <td>1</td>\n",
       "      <td>0</td>\n",
       "      <td>1</td>\n",
       "      <td>0</td>\n",
       "      <td>1</td>\n",
       "      <td>0</td>\n",
       "      <td>0</td>\n",
       "    </tr>\n",
       "    <tr>\n",
       "      <th>2</th>\n",
       "      <td>2</td>\n",
       "      <td>1</td>\n",
       "      <td>0</td>\n",
       "      <td>1</td>\n",
       "      <td>1</td>\n",
       "      <td>0</td>\n",
       "      <td>0</td>\n",
       "      <td>1</td>\n",
       "      <td>2</td>\n",
       "    </tr>\n",
       "  </tbody>\n",
       "</table>\n",
       "</div>"
      ],
      "text/plain": [
       "   32  age  alvarez  cdmx  everybody  hello  jose  living  years\n",
       "0   0    0        0     0          1      1     0       0      0\n",
       "1   0    0        1     0          1      0     1       0      0\n",
       "2   2    1        0     1          1      0     0       1      2"
      ]
     },
     "execution_count": 28,
     "metadata": {},
     "output_type": "execute_result"
    }
   ],
   "source": [
    "vectorizer = CountVectorizer(ngram_range=(1, 1), stop_words='english')\n",
    "vectorizer.fit(new_df['text'].values)\n",
    "vectorized = vectorizer.transform(new_df['text'].values)\n",
    "listofwords = vectorizer.get_feature_names()\n",
    "singleword = pd.DataFrame(vectorized.toarray(), columns=listofwords)\n",
    "singleword.head()"
   ]
  },
  {
   "cell_type": "markdown",
   "metadata": {},
   "source": [
    "As we can see, the **CountVectorizer** function extracts all the unique words and create an array"
   ]
  },
  {
   "cell_type": "code",
   "execution_count": 26,
   "metadata": {},
   "outputs": [
    {
     "data": {
      "text/html": [
       "<div>\n",
       "<style scoped>\n",
       "    .dataframe tbody tr th:only-of-type {\n",
       "        vertical-align: middle;\n",
       "    }\n",
       "\n",
       "    .dataframe tbody tr th {\n",
       "        vertical-align: top;\n",
       "    }\n",
       "\n",
       "    .dataframe thead th {\n",
       "        text-align: right;\n",
       "    }\n",
       "</style>\n",
       "<table border=\"1\" class=\"dataframe\">\n",
       "  <thead>\n",
       "    <tr style=\"text-align: right;\">\n",
       "      <th></th>\n",
       "      <th>32 years</th>\n",
       "      <th>age 32</th>\n",
       "      <th>alvarez everybody</th>\n",
       "      <th>cdmx 32</th>\n",
       "      <th>hello everybody</th>\n",
       "      <th>jose alvarez</th>\n",
       "      <th>living cdmx</th>\n",
       "      <th>years everybody</th>\n",
       "      <th>years living</th>\n",
       "    </tr>\n",
       "  </thead>\n",
       "  <tbody>\n",
       "    <tr>\n",
       "      <th>0</th>\n",
       "      <td>0</td>\n",
       "      <td>0</td>\n",
       "      <td>0</td>\n",
       "      <td>0</td>\n",
       "      <td>1</td>\n",
       "      <td>0</td>\n",
       "      <td>0</td>\n",
       "      <td>0</td>\n",
       "      <td>0</td>\n",
       "    </tr>\n",
       "    <tr>\n",
       "      <th>1</th>\n",
       "      <td>0</td>\n",
       "      <td>0</td>\n",
       "      <td>1</td>\n",
       "      <td>0</td>\n",
       "      <td>0</td>\n",
       "      <td>1</td>\n",
       "      <td>0</td>\n",
       "      <td>0</td>\n",
       "      <td>0</td>\n",
       "    </tr>\n",
       "    <tr>\n",
       "      <th>2</th>\n",
       "      <td>2</td>\n",
       "      <td>1</td>\n",
       "      <td>0</td>\n",
       "      <td>1</td>\n",
       "      <td>0</td>\n",
       "      <td>0</td>\n",
       "      <td>1</td>\n",
       "      <td>1</td>\n",
       "      <td>1</td>\n",
       "    </tr>\n",
       "  </tbody>\n",
       "</table>\n",
       "</div>"
      ],
      "text/plain": [
       "   32 years  age 32  alvarez everybody  cdmx 32  hello everybody  \\\n",
       "0         0       0                  0        0                1   \n",
       "1         0       0                  1        0                0   \n",
       "2         2       1                  0        1                0   \n",
       "\n",
       "   jose alvarez  living cdmx  years everybody  years living  \n",
       "0             0            0                0             0  \n",
       "1             1            0                0             0  \n",
       "2             0            1                1             1  "
      ]
     },
     "execution_count": 26,
     "metadata": {},
     "output_type": "execute_result"
    }
   ],
   "source": [
    "vectorizer = CountVectorizer(ngram_range=(2, 2), stop_words='english')\n",
    "vectorizer.fit(new_df['text'].values)\n",
    "vectorized = vectorizer.transform(new_df['text'].values)\n",
    "listofwords = vectorizer.get_feature_names()\n",
    "doubleword = pd.DataFrame(vectorized.toarray(), columns=listofwords)\n",
    "doubleword.head()"
   ]
  },
  {
   "cell_type": "markdown",
   "metadata": {},
   "source": [
    "In this case, both arguments resulted in a equal number of unique elements. However, later we will se that this is not always the same"
   ]
  },
  {
   "cell_type": "markdown",
   "metadata": {},
   "source": [
    "## TfidfTransformer\n",
    "\n",
    "Transform a count matrix to a normalized tf or tf-idf representation\n",
    "\n",
    "Tf means term-frequency while tf-idf means term-frequency times inverse document-frequency. This is a common term weighting scheme in information retrieval, that has also found good use in document classification.\n",
    "\n",
    "The goal of using tf-idf instead of the raw frequencies of occurrence of a token in a given document is to scale down the impact of tokens that occur very frequently in a given corpus and that are hence empirically less informative than features that occur in a small fraction of the training corpus.\n",
    "\\begin{equation}\n",
    "tf-idf_{t,d} = (1 +\\log tf_{t,d}) \\cdot \\log \\frac{N}{df_t}\n",
    "\\end{equation}"
   ]
  },
  {
   "cell_type": "code",
   "execution_count": 29,
   "metadata": {},
   "outputs": [],
   "source": [
    "idf_transformer = TfidfTransformer()\n",
    "idf_transformer.fit(vectorized)\n",
    "transformed = idf_transformer.transform(vectorized)"
   ]
  },
  {
   "cell_type": "code",
   "execution_count": 30,
   "metadata": {},
   "outputs": [
    {
     "data": {
      "text/html": [
       "<div>\n",
       "<style scoped>\n",
       "    .dataframe tbody tr th:only-of-type {\n",
       "        vertical-align: middle;\n",
       "    }\n",
       "\n",
       "    .dataframe tbody tr th {\n",
       "        vertical-align: top;\n",
       "    }\n",
       "\n",
       "    .dataframe thead th {\n",
       "        text-align: right;\n",
       "    }\n",
       "</style>\n",
       "<table border=\"1\" class=\"dataframe\">\n",
       "  <thead>\n",
       "    <tr style=\"text-align: right;\">\n",
       "      <th></th>\n",
       "      <th>32</th>\n",
       "      <th>age</th>\n",
       "      <th>alvarez</th>\n",
       "      <th>cdmx</th>\n",
       "      <th>everybody</th>\n",
       "      <th>hello</th>\n",
       "      <th>jose</th>\n",
       "      <th>living</th>\n",
       "      <th>years</th>\n",
       "    </tr>\n",
       "  </thead>\n",
       "  <tbody>\n",
       "    <tr>\n",
       "      <th>0</th>\n",
       "      <td>0.000000</td>\n",
       "      <td>0.000000</td>\n",
       "      <td>0.000000</td>\n",
       "      <td>0.000000</td>\n",
       "      <td>0.508542</td>\n",
       "      <td>0.861037</td>\n",
       "      <td>0.000000</td>\n",
       "      <td>0.000000</td>\n",
       "      <td>0.000000</td>\n",
       "    </tr>\n",
       "    <tr>\n",
       "      <th>1</th>\n",
       "      <td>0.000000</td>\n",
       "      <td>0.000000</td>\n",
       "      <td>0.652491</td>\n",
       "      <td>0.000000</td>\n",
       "      <td>0.385372</td>\n",
       "      <td>0.000000</td>\n",
       "      <td>0.652491</td>\n",
       "      <td>0.000000</td>\n",
       "      <td>0.000000</td>\n",
       "    </tr>\n",
       "    <tr>\n",
       "      <th>2</th>\n",
       "      <td>0.593683</td>\n",
       "      <td>0.296841</td>\n",
       "      <td>0.000000</td>\n",
       "      <td>0.296841</td>\n",
       "      <td>0.175319</td>\n",
       "      <td>0.000000</td>\n",
       "      <td>0.000000</td>\n",
       "      <td>0.296841</td>\n",
       "      <td>0.593683</td>\n",
       "    </tr>\n",
       "  </tbody>\n",
       "</table>\n",
       "</div>"
      ],
      "text/plain": [
       "         32       age   alvarez      cdmx  everybody     hello      jose  \\\n",
       "0  0.000000  0.000000  0.000000  0.000000   0.508542  0.861037  0.000000   \n",
       "1  0.000000  0.000000  0.652491  0.000000   0.385372  0.000000  0.652491   \n",
       "2  0.593683  0.296841  0.000000  0.296841   0.175319  0.000000  0.000000   \n",
       "\n",
       "     living     years  \n",
       "0  0.000000  0.000000  \n",
       "1  0.000000  0.000000  \n",
       "2  0.296841  0.593683  "
      ]
     },
     "execution_count": 30,
     "metadata": {},
     "output_type": "execute_result"
    }
   ],
   "source": [
    "transformedDF = pd.DataFrame(transformed.toarray(), columns=listofwords)\n",
    "transformedDF.head()"
   ]
  },
  {
   "cell_type": "markdown",
   "metadata": {},
   "source": [
    "# Pre-Processing our Data"
   ]
  },
  {
   "cell_type": "markdown",
   "metadata": {},
   "source": [
    "Our data frame uses a 50000 rows by 2 columns, each column containing a comment from the \"IMDB\" website and the classifications of **1 (Positive)** or **2 (Negative)**\n",
    "\n",
    "|    | text                                                | label  |\n",
    "|--------|------------------------------------------------------|--------|\n",
    "| 0      | Easily the worst movie I have ever seen in my \\.\\.\\. | 0      |\n",
    "| 1      | Ambushed is no ordinary action flick Its much \\.\\.\\. | 0      |\n",
    "| 2      | I loved this movie but then again I am a big C\\.\\.\\. | 1      |\n",
    "| 3      | In 1933 Dick Powell and Ruby Keeler sang and d\\.\\.\\. | 1      |\n",
    "| 4      | To make any film about the supposed end of the\\.\\.\\. | 0      |\n",
    "| \\.\\.\\. | \\.\\.\\.                                               | \\.\\.\\. |\n",
    "| 49995  | While its true that the movie is somewhat inte\\.\\.\\. | 0      |\n",
    "| 49996  | From the upper shelf of great Classic Books co\\.\\.\\. | 1      |\n",
    "| 49997  | Good ideashame about the actual movie Would of\\.\\.\\. | 0      |\n",
    "| 49998  | An unusual film for an audience outside the US\\.\\.\\. | 1      |\n",
    "| 49999  | I really enjoyed The 60s Not being of that gen\\.\\.\\. | 1      |"
   ]
  },
  {
   "cell_type": "markdown",
   "metadata": {},
   "source": [
    "Using the **CountVectorizer** with ngram_range of 1,1 will create an array of 50,000 rows by over 180,000 columns, while using a 2,2 ngram_range will create an array of 50,000 rows by over 3,120,000 columns.\n",
    "\n",
    "Both arrays were also transformed using the ***TfidfTransformer*** function "
   ]
  },
  {
   "cell_type": "markdown",
   "metadata": {},
   "source": [
    "# Model\n",
    "\n",
    "For our model we selected the ***SGDClassifier*** since it is a linear classifiers which can use SVM, logistic regression among others. For our model we wnet with the SVM as a default of the ***SGDClassifier***\n",
    "\n",
    "```python\n",
    "model = SGDClassifier()\n",
    "```\n",
    "\n",
    "We also divided our data set with a train_test_split() and feed it into our model\n",
    "\n",
    "```python\n",
    "X_train, X_test, y_train, y_test = train_test_split(transformed, y)\n",
    "\n",
    "clf.fit(X_train, y_train)\n",
    "```\n",
    "\n",
    "We trained the model with the unigram (ngram_range=1,1) and bigram (ngram_range=2,2) and our scores where as follows\n",
    "\n",
    "* unigram score train = 93.17.\n",
    "* unigram score test = 80.10.\n",
    "\n",
    "* bigram score train = 90.38.\n",
    "* bigram score test = 73.32."
   ]
  },
  {
   "cell_type": "markdown",
   "metadata": {},
   "source": [
    "Thus, we used the ngram_range 1,1 "
   ]
  }
 ],
 "metadata": {
  "kernelspec": {
   "display_name": "Python 3",
   "language": "python",
   "name": "python3"
  },
  "language_info": {
   "codemirror_mode": {
    "name": "ipython",
    "version": 3
   },
   "file_extension": ".py",
   "mimetype": "text/x-python",
   "name": "python",
   "nbconvert_exporter": "python",
   "pygments_lexer": "ipython3",
   "version": "3.7.6"
  }
 },
 "nbformat": 4,
 "nbformat_minor": 2
}
