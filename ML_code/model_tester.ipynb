{
 "metadata": {
  "language_info": {
   "codemirror_mode": {
    "name": "ipython",
    "version": 3
   },
   "file_extension": ".py",
   "mimetype": "text/x-python",
   "name": "python",
   "nbconvert_exporter": "python",
   "pygments_lexer": "ipython3",
   "version": 3
  },
  "orig_nbformat": 2,
  "kernelspec": {
   "name": "python_defaultSpec_1596553518889",
   "display_name": "Python 3.6.10 64-bit ('PythonAdb': conda)"
  }
 },
 "nbformat": 4,
 "nbformat_minor": 2,
 "cells": [
  {
   "cell_type": "code",
   "execution_count": 1,
   "metadata": {},
   "outputs": [],
   "source": [
    "from joblib import dump, load\n",
    "import pandas as pd\n",
    "import string"
   ]
  },
  {
   "cell_type": "code",
   "execution_count": 2,
   "metadata": {},
   "outputs": [],
   "source": [
    "def remove_punctuations(text):\n",
    "    for punctuation in string.punctuation:\n",
    "        text = text.replace(punctuation, '')\n",
    "    return text"
   ]
  },
  {
   "cell_type": "code",
   "execution_count": 3,
   "metadata": {},
   "outputs": [],
   "source": [
    "vectorizer = load(\"./Preprocessing/vectorizer.joblib\")\n",
    "idf_transformer = load(\"./Preprocessing/idf_transformer.joblib\")\n",
    "model = load('./Model/model.joblib')"
   ]
  },
  {
   "cell_type": "code",
   "execution_count": 4,
   "metadata": {},
   "outputs": [],
   "source": [
    "new_comment = \"\"\"In all my series and movie watching years I have never seen a serie so well thought through as this. Don't let the language barrier stop you from watching this. Acting and character building are superb. Hint: grab a pen and some paper and keep track ;) Also there is totally no comparison to Stranger Things (and I have seen all 3 seasons) This is in a league of it's own entirely. Well done! Netflix more of this please!!!\"\"\""
   ]
  },
  {
   "cell_type": "code",
   "execution_count": 5,
   "metadata": {
    "tags": []
   },
   "outputs": [
    {
     "output_type": "stream",
     "name": "stdout",
     "text": "Positive\n"
    }
   ],
   "source": [
    "new_df = pd.DataFrame([new_comment])\n",
    "new_df[0] = new_df[0].apply(remove_punctuations)\n",
    "new_df = new_df.rename(columns={0:\"text\"})\n",
    "X_train_unigram = vectorizer.transform(new_df[\"text\"].values)\n",
    "X_train_unigram_tf_idf = idf_transformer.transform(X_train_unigram)\n",
    "new_prediction = model.predict(X_train_unigram_tf_idf)\n",
    "if new_prediction[0] == 1:\n",
    "    text_prediction = \"Positive\"\n",
    "else:\n",
    "    text_prediction = \"Negative\"\n",
    "print(text_prediction)"
   ]
  }
 ]
}