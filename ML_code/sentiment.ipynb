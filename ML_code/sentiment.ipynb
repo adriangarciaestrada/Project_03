{
 "metadata": {
  "language_info": {
   "codemirror_mode": {
    "name": "ipython",
    "version": 3
   },
   "file_extension": ".py",
   "mimetype": "text/x-python",
   "name": "python",
   "nbconvert_exporter": "python",
   "pygments_lexer": "ipython3",
   "version": 3
  },
  "orig_nbformat": 2,
  "kernelspec": {
   "name": "python_defaultSpec_1596552057817",
   "display_name": "Python 3.6.10 64-bit"
  }
 },
 "nbformat": 4,
 "nbformat_minor": 2,
 "cells": [
  {
   "cell_type": "code",
   "execution_count": 1,
   "metadata": {},
   "outputs": [
    {
     "output_type": "execute_result",
     "data": {
      "text/plain": "                                                    text  label\n0      This movie has some things that are pretty ama...      1\n1      Duchess and her three kittens are enjoying the...      1\n2      The Class is a comedy series that portrays a b...      0\n3      Latter days is the best gay movie of the homos...      1\n4      There is part of one sequence where some water...      0\n...                                                  ...    ...\n49995  This movie succeeds at being one of the most u...      0\n49996  There is a reason Chairman of the Board got a ...      0\n49997  My Favorite part was when the credits started ...      0\n49998  Jack Frost no kids its not the warm hearted fa...      0\n49999  Has there ever been a movie more charming than...      1\n\n[50000 rows x 2 columns]",
      "text/html": "<div>\n<style scoped>\n    .dataframe tbody tr th:only-of-type {\n        vertical-align: middle;\n    }\n\n    .dataframe tbody tr th {\n        vertical-align: top;\n    }\n\n    .dataframe thead th {\n        text-align: right;\n    }\n</style>\n<table border=\"1\" class=\"dataframe\">\n  <thead>\n    <tr style=\"text-align: right;\">\n      <th></th>\n      <th>text</th>\n      <th>label</th>\n    </tr>\n  </thead>\n  <tbody>\n    <tr>\n      <th>0</th>\n      <td>This movie has some things that are pretty ama...</td>\n      <td>1</td>\n    </tr>\n    <tr>\n      <th>1</th>\n      <td>Duchess and her three kittens are enjoying the...</td>\n      <td>1</td>\n    </tr>\n    <tr>\n      <th>2</th>\n      <td>The Class is a comedy series that portrays a b...</td>\n      <td>0</td>\n    </tr>\n    <tr>\n      <th>3</th>\n      <td>Latter days is the best gay movie of the homos...</td>\n      <td>1</td>\n    </tr>\n    <tr>\n      <th>4</th>\n      <td>There is part of one sequence where some water...</td>\n      <td>0</td>\n    </tr>\n    <tr>\n      <th>...</th>\n      <td>...</td>\n      <td>...</td>\n    </tr>\n    <tr>\n      <th>49995</th>\n      <td>This movie succeeds at being one of the most u...</td>\n      <td>0</td>\n    </tr>\n    <tr>\n      <th>49996</th>\n      <td>There is a reason Chairman of the Board got a ...</td>\n      <td>0</td>\n    </tr>\n    <tr>\n      <th>49997</th>\n      <td>My Favorite part was when the credits started ...</td>\n      <td>0</td>\n    </tr>\n    <tr>\n      <th>49998</th>\n      <td>Jack Frost no kids its not the warm hearted fa...</td>\n      <td>0</td>\n    </tr>\n    <tr>\n      <th>49999</th>\n      <td>Has there ever been a movie more charming than...</td>\n      <td>1</td>\n    </tr>\n  </tbody>\n</table>\n<p>50000 rows × 2 columns</p>\n</div>"
     },
     "metadata": {},
     "execution_count": 1
    }
   ],
   "source": [
    "import pandas as pd\n",
    "import re\n",
    "from os import system, listdir\n",
    "from random import shuffle\n",
    "from sklearn.linear_model import SGDClassifier\n",
    "from sklearn.model_selection import train_test_split\n",
    "import numpy as np\n",
    "import pandas as pd\n",
    "from random import shuffle\n",
    "from joblib import dump, load\n",
    "\n",
    "directory = './aclImdb/train/neg'\n",
    "neg = []\n",
    "\n",
    "for filename in os.listdir(directory):\n",
    "        f = open(f'{directory}/{filename}', encoding='utf-8')\n",
    "        lines = f.read()\n",
    "        neg.append(lines)\n",
    "\n",
    "directory = './aclImdb/test/pos'\n",
    "pos = []\n",
    "\n",
    "for filename in os.listdir(directory):\n",
    "        f = open(f'{directory}/{filename}', encoding='utf-8')\n",
    "        lines = f.read()\n",
    "        pos.append(lines)\n",
    "\n",
    "directory = './aclImdb/test/neg'\n",
    "\n",
    "\n",
    "for filename in os.listdir(directory):\n",
    "        f = open(f'{directory}/{filename}', encoding='utf-8')\n",
    "        lines = f.read()\n",
    "        neg.append(lines)\n",
    "\n",
    "directory = './aclImdb/train/pos'\n",
    "for filename in os.listdir(directory):\n",
    "        f = open(f'{directory}/{filename}', encoding='utf-8')\n",
    "        lines = f.read()\n",
    "        pos.append(lines)\n",
    "\n",
    "\n",
    "negative = pd.DataFrame(neg)\n",
    "negative[\"label\"] = 0\n",
    "positive = pd.DataFrame(pos)\n",
    "positive[\"label\"] = 1\n",
    "all = pd.concat([negative, positive])\n",
    "all.fillna(0, inplace=True)\n",
    "all = all.rename(columns={0: \"text\"}).reset_index(drop=True)\n",
    "import string\n",
    "def remove_punctuations(text):\n",
    "    for punctuation in string.punctuation:\n",
    "        text = text.replace(punctuation, '')\n",
    "    return text\n",
    "all['text'] = all['text'].apply(remove_punctuations)\n",
    "all = all.sample(frac=1).reset_index(drop=True)\n",
    "all"
   ]
  },
  {
   "cell_type": "code",
   "execution_count": 10,
   "metadata": {},
   "outputs": [],
   "source": [
    "from sklearn.feature_extraction.text import CountVectorizer, TfidfTransformer\n",
    "from scipy.sparse import save_npz, load_npz"
   ]
  },
  {
   "cell_type": "code",
   "execution_count": 11,
   "metadata": {
    "tags": []
   },
   "outputs": [],
   "source": [
    "vectorizer = CountVectorizer(ngram_range=(1, 1), stop_words='english')\n",
    "vectorizer.fit(all['text'].values)\n",
    "dump(vectorizer, './Preprocessing/vectorizer.joblib')\n",
    "vectorized = vectorizer.transform(all['text'].values)\n",
    "save_npz('vectorized.npz', vectorized)\n",
    "idf_transformer = TfidfTransformer()\n",
    "idf_transformer.fit(vectorized)\n",
    "dump(idf_transformer, './Preprocessing/idf_transformer.joblib')\n",
    "transformed = idf_transformer.transform(vectorized)\n",
    "save_npz('transformed.npz', transformed)\n",
    "listofwords = vectorizer.get_feature_names()"
   ]
  },
  {
   "cell_type": "code",
   "execution_count": 18,
   "metadata": {
    "tags": []
   },
   "outputs": [
    {
     "output_type": "stream",
     "name": "stdout",
     "text": "0.9318666666666666 0.89384\n"
    },
    {
     "output_type": "execute_result",
     "data": {
      "text/plain": "['model.joblib']"
     },
     "metadata": {},
     "execution_count": 18
    }
   ],
   "source": [
    "from sklearn.linear_model import SGDClassifier\n",
    "from sklearn.model_selection import train_test_split\n",
    "import numpy as np\n",
    "\n",
    "y = all['label'].values\n",
    "\n",
    "X_train, X_test, y_train, y_test = train_test_split(transformed, y)\n",
    "\n",
    "model = SGDClassifier()\n",
    "model.fit(X_train, y_train)\n",
    "train_score = model.score(X_train, y_train)\n",
    "test_score = model.score(X_test, y_test)\n",
    "prediction = model.predict(X_test)\n",
    "print(train_score, test_score)\n",
    "comparison = zip(prediction,y_test)\n",
    "comp_df = pd.DataFrame(comparison)\n",
    "comp_df.head(20)\n",
    "dump(model, './Model/model.joblib')"
   ]
  }
 ]
}